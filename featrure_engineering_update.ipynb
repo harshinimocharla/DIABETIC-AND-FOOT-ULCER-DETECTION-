import pandas as pd

# Path to the cleaned data file
data_path = 'C:/Users/harsh/Medical_Thermogram_Analysis/data/Cleaned_Plantar_Thermogram_Database.xlsx'

# Load the cleaned data
df = pd.read_excel(data_path)

# Feature Engineering

# 1. Temperature Difference
df['Temp_Difference'] = df['RIGHT FOOT'] - df['LEFT FOOT']

# 2. IMC Categories
def categorize_imc(imc):
    if imc < 18.5:
        return 'Underweight'
    elif 18.5 <= imc < 24.9:
        return 'Normal'
    elif 25 <= imc < 29.9:
        return 'Overweight'
    else:
        return 'Obese'

df['IMC_Category'] = df['IMC'].apply(categorize_imc)

# 3. Statistical Features (mean, variance, range)
df['Foot_Temp_Mean'] = df[['RIGHT FOOT', 'LEFT FOOT']].mean(axis=1)
df['Foot_Temp_Variance'] = df[['RIGHT FOOT', 'LEFT FOOT']].var(axis=1)
df['Foot_Temp_Range'] = df[['RIGHT FOOT', 'LEFT FOOT']].max(axis=1) - df[['RIGHT FOOT', 'LEFT FOOT']].min(axis=1)

# 4. Temperature Anomalies
# Highlighting significant differences that may indicate potential early signs of ulcers
def detect_anomaly(diff):
    if abs(diff) > 2:  # Arbitrary threshold for heat asymmetry
        return 'Anomaly'
    else:
        return 'Normal'

df['Temp_Anomaly'] = df['Temp_Difference'].apply(detect_anomaly)

# Save the enhanced dataset to a new file
enhanced_data_path = 'C:/Users/harsh/Medical_Thermogram_Analysis/data/Enhanced_Plantar_Thermogram_Database.xlsx'
df.to_excel(enhanced_data_path, index=False)

print(f"Enhanced data saved to: {enhanced_data_path}")
