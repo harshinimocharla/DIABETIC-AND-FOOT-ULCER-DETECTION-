import pandas as pd
import os

# File path
file_path = r'C:\Users\harsh\Medical_Thermogram_Analysis\data\Plantar_Thermogram_Database.xlsx'

# Check if the file exists
if not os.path.exists(file_path):
    raise FileNotFoundError(f"File not found: {file_path}")

# Load the data
plantar_db = pd.read_excel(file_path)

# Strip column names to avoid leading/trailing spaces
plantar_db.columns = plantar_db.columns.str.strip()

# Remove completely empty columns
plantar_db.dropna(axis=1, how='all', inplace=True)

# Drop unnecessary 'Unnamed' columns
plantar_db = plantar_db.loc[:, ~plantar_db.columns.str.contains('^Unnamed')]

# Fill missing values safely
plantar_db = plantar_db.assign(
    Subject=plantar_db['Subject'].fillna('Unknown'),
    Gender=plantar_db['Gender'].fillna(plantar_db['Gender'].mode()[0]),
    **{col: plantar_db[col].fillna(plantar_db[col].median()) for col in ['Age (years)', 'Weight (Kg)', 'Height (m)', 'IMC']}
)

# Show the cleaned data
print(plantar_db.head())
print(plantar_db.info())
