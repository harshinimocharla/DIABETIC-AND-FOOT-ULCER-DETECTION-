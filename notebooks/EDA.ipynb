import pandas as pd
import seaborn as sns
import matplotlib.pyplot as plt

# File path
data_path = 'C:/Users/harsh/Medical_Thermogram_Analysis/data/Plantar_Thermogram_Database.xlsx'

# Load data
df = pd.read_excel(data_path)

# Drop unnecessary columns
df = df.loc[:, ~df.columns.str.contains('Unnamed')]

# Display basic info
print(df.info())
print(df.head())

# Handle missing values
df.dropna(subset=['Subject'], inplace=True)

# Summary statistics
print(df.describe())

# Correlation heatmap
plt.figure(figsize=(8, 6))
sns.heatmap(df.corr(numeric_only=True), annot=True, cmap='coolwarm')
plt.title('Correlation Heatmap')
plt.show()

# Distribution of age
plt.figure(figsize=(6, 4))
sns.histplot(df['Age (years)'], kde=True)
plt.title('Age Distribution')
plt.show()

# Boxplot for IMC
plt.figure(figsize=(6, 4))
sns.boxplot(x='IMC', data=df)
plt.title('IMC Boxplot')
plt.show()

# Countplot for Gender
plt.figure(figsize=(6, 4))
sns.countplot(x='Gender', data=df)
plt.title('Gender Distribution')
plt.show()
