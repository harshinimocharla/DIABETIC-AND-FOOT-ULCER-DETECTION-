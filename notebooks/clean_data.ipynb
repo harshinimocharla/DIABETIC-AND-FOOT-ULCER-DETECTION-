
import pandas as pd

# Load the database
file_path = 'Medical_Thermogram_Analysis/data/Plantar Thermogram/Plantar_Thermogram_Database.xlsx'
plantar_db = pd.read_excel(file_path)

# Drop unnecessary columns (like 'Unnamed')
plantar_db = plantar_db.loc[:, ~plantar_db.columns.str.contains('Unnamed')]

# Fill missing values without chained assignment
plantar_db.fillna({
    'Subject': 'Unknown',
    'Gender': plantar_db['Gender'].mode()[0],
    'Age (years)': plantar_db['Age (years)'].median(),
    'Weight (Kg)': plantar_db['Weight (Kg)'].median(),
    'Height (m)': plantar_db['Height (m)'].median(),
    'IMC': plantar_db['IMC'].median()
}, inplace=True)

# Confirm no more missing values
print(plantar_db.isnull().sum())

# Display the first few rows
print(plantar_db.head())
