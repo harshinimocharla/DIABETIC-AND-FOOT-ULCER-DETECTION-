import pandas as pd
from sklearn.model_selection import train_test_split, cross_val_score, KFold
from sklearn.ensemble import RandomForestClassifier
from sklearn.preprocessing import LabelEncoder

# Load enhanced dataset
data_path = 'C:/Users/harsh/Medical_Thermogram_Analysis/data/Enhanced_Plantar_Thermogram_Database.xlsx'
df = pd.read_excel(data_path)

# Encode categorical column
le = LabelEncoder()
df['IMC_Category'] = le.fit_transform(df['IMC_Category'])

# Feature selection
features = ['Temp_Difference', 'Foot_Temp_Mean', 'Foot_Temp_Variance', 'Foot_Temp_Range', 'IMC_Category']
X = df[features]
y = df['Temp_Anomaly']

# Cross-validation setup
kf = KFold(n_splits=5, shuffle=True, random_state=42)
model = RandomForestClassifier(n_estimators=100, random_state=42)

# Cross-validation
cv_scores = cross_val_score(model, X, y, cv=kf, scoring='accuracy')

# Results
print(f'Cross-validation accuracy scores: {cv_scores}')
print(f'Mean CV accuracy: {cv_scores.mean() * 100:.2f}%')
