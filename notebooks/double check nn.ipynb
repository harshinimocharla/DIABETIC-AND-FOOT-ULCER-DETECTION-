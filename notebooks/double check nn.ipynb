import pandas as pd
from sklearn.preprocessing import StandardScaler




# Drop non-numeric columns
X = df.drop(columns=['Subject', 'Temp_Anomaly', 'Gender', 'IMC_Category'])

# Scale the numeric data
scaler = StandardScaler()
X = scaler.fit_transform(X)

