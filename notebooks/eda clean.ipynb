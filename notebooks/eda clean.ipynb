import pandas as pd

# Load the data
df = pd.read_excel('C:/Users/harsh/Medical_Thermogram_Analysis/data/Plantar_Thermogram_Database.xlsx')

# Drop empty or misaligned rows
essential_columns = ['Subject', 'Gender', 'Age (years)', 'Weight (Kg)', 'Height (m)', 'IMC']
df.dropna(subset=essential_columns, inplace=True)

# Drop unwanted 'Unnamed' columns
df = df.loc[:, ~df.columns.str.contains('Unnamed')]

# Display the cleaned dataframe info
print(df.info())

# Show the first 5 rows
print(df.head())

# Describe numeric columns
print(df.describe())
