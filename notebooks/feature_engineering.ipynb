import pandas as pd

# Load the data
data_path = 'C:/Users/harsh/Medical_Thermogram_Analysis/data/Plantar_Thermogram_Database.xlsx'
df = pd.read_excel(data_path)

# Clean the data
essential_columns = ['Subject', 'Gender', 'Age (years)', 'Weight (Kg)', 'Height (m)', 'IMC']
df.dropna(subset=essential_columns, inplace=True)

# Drop unnecessary columns
df = df.loc[:, ~df.columns.str.contains('Unnamed')]

# Convert temperature columns to numeric
df['RIGHT FOOT'] = pd.to_numeric(df['RIGHT FOOT'], errors='coerce')
df['LEFT FOOT'] = pd.to_numeric(df['LEFT FOOT'], errors='coerce')

# Feature Engineering
# Temperature Differences
df['Temp_Difference'] = df['RIGHT FOOT'] - df['LEFT FOOT']

# IMC Categories
def categorize_imc(imc):
    if imc < 18.5:
        return 'Underweight'
    elif 18.5 <= imc < 24.9:
        return 'Normal'
    elif 25.0 <= imc < 29.9:
        return 'Overweight'
    else:
        return 'Obese'

df['IMC_Category'] = df['IMC'].apply(categorize_imc)

# Statistical Features
df['Foot_Temp_Mean'] = df[['RIGHT FOOT', 'LEFT FOOT']].mean(axis=1)
df['Foot_Temp_Variance'] = df[['RIGHT FOOT', 'LEFT FOOT']].var(axis=1)
df['Foot_Temp_Range'] = df[['RIGHT FOOT', 'LEFT FOOT']].max(axis=1) - df[['RIGHT FOOT', 'LEFT FOOT']].min(axis=1)

# Temperature Anomalies
def detect_anomaly(row):
    if abs(row['Temp_Difference']) > 2.0:
        return 'Anomaly'
    return 'Normal'

df['Temp_Anomaly'] = df.apply(detect_anomaly, axis=1)

# Save cleaned and engineered data
cleaned_data_path = 'C:/Users/harsh/Medical_Thermogram_Analysis/data/Cleaned_Plantar_Thermogram_Database.xlsx'
df.to_excel(cleaned_data_path, index=False)

print(f"Cleaned data saved to: {cleaned_data_path}")
