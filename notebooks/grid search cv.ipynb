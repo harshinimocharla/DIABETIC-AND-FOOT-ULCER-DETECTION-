from sklearn.model_selection import GridSearchCV
from sklearn.ensemble import RandomForestClassifier
from sklearn.metrics import accuracy_score
import pandas as pd

# Load the enhanced data
data_path = 'C:/Users/harsh/Medical_Thermogram_Analysis/data/Enhanced_Plantar_Thermogram_Database.xlsx'
df = pd.read_excel(data_path)

# Check the column names
print(df.columns)

# Features and target
features = ['Temp_Difference', 'Foot_Temp_Mean', 'Foot_Temp_Variance', 'Foot_Temp_Range', 'Temp_Anomaly']
target = 'Diagnosis'  # Double-check this against the actual column names

if target not in df.columns:
    raise KeyError(f"Target column '{target}' not found in DataFrame. Available columns: {df.columns}")

X = df[features]
y = df[target]

# Define the parameter grid
param_grid = {
    'n_estimators': [50, 100, 200],
    'max_depth': [None, 10, 20, 30],
    'min_samples_split': [2, 5, 10],
    'min_samples_leaf': [1, 2, 4]
}

# Create a RandomForestClassifier
rf = RandomForestClassifier(random_state=42)

# Set up GridSearchCV
grid_search = GridSearchCV(estimator=rf, param_grid=param_grid, 
                           cv=5, scoring='accuracy', n_jobs=-1, verbose=2)

# Fit the grid search to the data
grid_search.fit(X, y)

# Best parameters and best score
print("Best Parameters:", grid_search.best_params_)
print("Best Cross-Validation Accuracy:", grid_search.best_score_)

# Using the best estimator on the full dataset
best_model = grid_search.best_estimator_
y_pred = best_model.predict(X)

# Final accuracy on the training set
final_accuracy = accuracy_score(y, y_pred)
print(f"Final Training Accuracy: {final_accuracy * 100:.2f}%")
