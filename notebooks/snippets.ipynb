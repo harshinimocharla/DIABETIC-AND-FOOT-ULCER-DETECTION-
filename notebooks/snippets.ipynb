import pandas as pd

  # Just to confirm it loaded properly
import seaborn as sns
import matplotlib.pyplot as plt
file_path = "C:/Users/harsh/Medical_Thermogram_Analysis/data/Enhanced_Plantar_Thermogram_Database.xlsx"
df = pd.read_excel(file_path)

print(df.head())
# Boxplot for Temp_Difference
plt.figure(figsize=(8, 5))
sns.boxplot(x=df['Temp_Difference'])
plt.title('Boxplot of Temperature Difference')
plt.show()

# Boxplot for Foot_Temp_Variance
plt.figure(figsize=(8, 5))
sns.boxplot(x=df['Foot_Temp_Variance'])
plt.title('Boxplot of Foot Temperature Variance')
plt.show()

# Boxplot for Foot_Temp_Range
plt.figure(figsize=(8, 5))
sns.boxplot(x=df['Foot_Temp_Range'])
plt.title('Boxplot of Foot Temperature Range')
plt.show()
